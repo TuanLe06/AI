{
 "cells": [
  {
   "cell_type": "markdown",
   "metadata": {},
   "source": [
    "# Cấu trúc dữ liệu và giải thuật"
   ]
  },
  {
   "cell_type": "markdown",
   "metadata": {},
   "source": [
    "## 1.Thuật toán"
   ]
  },
  {
   "cell_type": "markdown",
   "metadata": {},
   "source": [
    "### 1.1.Khái niệm về thuận toán"
   ]
  },
  {
   "cell_type": "markdown",
   "metadata": {},
   "source": [
    "Thuật toán là một tập hợp các bước hoặc quy tắc được xác định rõ ràng nhằm giải quyết một vấn đề cụ thể hoặc thực hiện một nhiệm vụ. Thuật toán cần phải có các tính chất:\n",
    "\n",
    "+ Rõ ràng: Mỗi bước trong thuật toán phải rõ ràng và không mơ hồ.\n",
    "\n",
    "+ Hữu hạn: Thuật toán phải kết thúc sau một số bước hữu hạn.\n",
    "\n",
    "+ Đầu vào/đầu ra: Thuật toán nhận một hoặc nhiều đầu vào và đưa ra ít nhất một đầu ra.\n",
    "\n",
    "+ Hiệu quả: Thuật toán phải thực hiện công việc một cách hiệu quả trong một khoảng thời gian hợp lý."
   ]
  },
  {
   "cell_type": "markdown",
   "metadata": {},
   "source": [
    "### 1.2.Khái niệm về độ phức tạp của thuật toán"
   ]
  },
  {
   "cell_type": "markdown",
   "metadata": {},
   "source": [
    " Khái niệm về Độ Phức Tạp của Thuật Toán\n",
    "   + Độ phức tạp của thuật toán đề cập đến lượng tài nguyên cần thiết để thực hiện thuật toán, thường được đo bằng hai yếu tố chính:\n",
    "\n",
    "   + Độ phức tạp thời gian (Time Complexity): Là thước đo thời gian thực hiện thuật toán dựa trên kích thước đầu vào. Thông thường được biểu diễn bằng ký hiệu Big-O, như O(n), O(n^2), O(log n), v.v.\n",
    "\n",
    "   + Độ phức tạp không gian (Space Complexity): Là thước đo lượng bộ nhớ cần thiết để thực hiện thuật toán. Cũng được biểu diễn bằng ký hiệu Big-O.\n",
    "\n",
    "Mục tiêu của Độ Phức Tạp của Thuật Toán\n",
    "   +  Tối ưu hóa tài nguyên: Tìm kiếm thuật toán sử dụng ít thời gian và bộ nhớ nhất.\n",
    "\n",
    "   +  Đánh giá hiệu suất: So sánh hiệu suất của các thuật toán khác nhau cho cùng một bài toán.\n",
    "\n",
    "Ví dụ về Độ Phức Tạp Thời Gian\n",
    "   + O(1): Thời gian thực hiện không phụ thuộc vào kích thước đầu vào.\n",
    "\n",
    "   + O(n): Thời gian thực hiện tỷ lệ thuận với kích thước đầu vào.\n",
    "\n",
    "   + O(n^2): Thời gian thực hiện tỷ lệ thuận với bình phương kích thước đầu vào."
   ]
  },
  {
   "cell_type": "markdown",
   "metadata": {},
   "source": [
    "## 2.Các thuật toán sắp xếp"
   ]
  },
  {
   "cell_type": "markdown",
   "metadata": {},
   "source": [
    " ### Bulbble Sort(sắp xếp nổi bọt)"
   ]
  },
  {
   "cell_type": "markdown",
   "metadata": {},
   "source": [
    "Ý tưởng: \n",
    "+ So sánh từng cặp phần tử liền kề và hoán đổi chúng nếu chúng ở sai thứ tự\n",
    "Đặc điểm:\n",
    "+ Ưu điểm: Dễ hiểu và cài đặt\n",
    "            \n",
    "+ Nhược điểm: Hiệu suất thấp, không hiệu quả cho tập dữ liệu lớn"
   ]
  },
  {
   "cell_type": "code",
   "execution_count": 15,
   "metadata": {},
   "outputs": [
    {
     "name": "stdout",
     "output_type": "stream",
     "text": [
      "[1, 2, 3, 4, 6, 7, 9]\n"
     ]
    }
   ],
   "source": [
    "def bubble_sort(a): \n",
    "    n = len(a) \n",
    "    for i in range(n): \n",
    "        for j in range(0, n-i-1): \n",
    "            if a[j] > a[j+1]: \n",
    "                a[j], a[j+1] = a[j+1], a[j] \n",
    "        return a\n",
    "n=[1,2,3,6,4,9,7]\n",
    "print(bubble_sort(n))"
   ]
  },
  {
   "cell_type": "markdown",
   "metadata": {},
   "source": [
    "### 2.2.Selection Sort(sắp xếp chọn)"
   ]
  },
  {
   "cell_type": "markdown",
   "metadata": {},
   "source": [
    "Ý tưởng: \n",
    "+ Tìm phần tử nhỏ nhất trong mảng chưa được sắp xếp và hoán đổi nó với phần tử đầu tiên trong mảng chưa sắp xếp.\n",
    "\n",
    "Đặc điểm:\n",
    "+ Ưu điểm: Dễ cài đặt.\n",
    "\n",
    "+ Nhược điểm: Không hiệu quả cho tập dữ liệu lớn, phức tạp thời gian là O(n^2)."
   ]
  },
  {
   "cell_type": "code",
   "execution_count": 16,
   "metadata": {},
   "outputs": [
    {
     "name": "stdout",
     "output_type": "stream",
     "text": [
      "[1, 2, 3, 4, 6, 7, 9]\n"
     ]
    }
   ],
   "source": [
    "def selection_sort(a):\n",
    "    for i in range(len(a)):\n",
    "        m = i\n",
    "        for j in range(i+1, len(a)):\n",
    "            if a[j] < a[m]:\n",
    "                m = j\n",
    "        a[i], a[m] = a[m], a[i]\n",
    "    return a\n",
    "n=[1,2,3,6,4,9,7]\n",
    "print(selection_sort(n))"
   ]
  },
  {
   "cell_type": "markdown",
   "metadata": {},
   "source": [
    "### 2.3.Insertion Sort(Sắp xếp chèn)"
   ]
  },
  {
   "cell_type": "markdown",
   "metadata": {},
   "source": [
    "Ý tưởng: \n",
    "+ Xây dựng mảng được sắp xếp từng phần tử một, bằng cách chèn từng phần tử vào vị trí chính xác.\n",
    "\n",
    "Đặc điểm:\n",
    "+ Ưu điểm: Hiệu quả với các mảng nhỏ hoặc mảng đã gần như được sắp xếp.\n",
    "\n",
    "+ Nhược điểm: Không hiệu quả cho tập dữ liệu lớn."
   ]
  },
  {
   "cell_type": "code",
   "execution_count": 17,
   "metadata": {},
   "outputs": [
    {
     "name": "stdout",
     "output_type": "stream",
     "text": [
      "[1, 2, 3, 4, 6, 7, 9]\n"
     ]
    }
   ],
   "source": [
    "def insertion_sort(a):\n",
    "    for i in range(1, len(a)):\n",
    "        key = a[i]\n",
    "        j = i-1\n",
    "        while j >= 0 and key < a[j]:\n",
    "            a[j + 1] = a[j]\n",
    "            j -= 1\n",
    "        a[j + 1] = key\n",
    "    return a\n",
    "n=[1,2,3,6,4,9,7]\n",
    "print(insertion_sort(n))"
   ]
  },
  {
   "cell_type": "markdown",
   "metadata": {},
   "source": [
    "### 2.4.Merge Sort(sắp xếp trộn)"
   ]
  },
  {
   "cell_type": "markdown",
   "metadata": {},
   "source": [
    "Ý tưởng: \n",
    "+ Chia mảng thành hai nửa, sắp xếp từng nửa, sau đó kết hợp chúng lại.\n",
    "\n",
    "Đặc điểm:\n",
    "+ Ưu điểm: Hiệu quả cho các tập dữ liệu lớn, phức tạp thời gian O(n log n).\n",
    "\n",
    "+ Nhược điểm: Cần thêm bộ nhớ phụ."
   ]
  },
  {
   "cell_type": "code",
   "execution_count": 18,
   "metadata": {},
   "outputs": [
    {
     "name": "stdout",
     "output_type": "stream",
     "text": [
      "[1, 2, 3, 4, 6, 7, 9]\n"
     ]
    }
   ],
   "source": [
    "def merge_sort(a):\n",
    "    if len(a) > 1:\n",
    "        mid = len(a) // 2\n",
    "        L = a[:mid]\n",
    "        R = a[mid:]\n",
    "\n",
    "        merge_sort(L)\n",
    "        merge_sort(R)\n",
    "\n",
    "        i = j = k = 0\n",
    "\n",
    "        while i < len(L) and j < len(R):\n",
    "            if L[i] < R[j]:\n",
    "                a[k] = L[i]\n",
    "                i += 1\n",
    "            else:\n",
    "                a[k] = R[j]\n",
    "                j += 1\n",
    "            k += 1\n",
    "\n",
    "        while i < len(L):\n",
    "            a[k] = L[i]\n",
    "            i += 1\n",
    "            k += 1\n",
    "\n",
    "        while j < len(R):\n",
    "            a[k] = R[j]\n",
    "            j += 1\n",
    "            k += 1\n",
    "    return a\n",
    "n=[1,2,3,6,4,9,7]\n",
    "print(merge_sort(n))"
   ]
  },
  {
   "cell_type": "markdown",
   "metadata": {},
   "source": [
    "### 2.5.Quick Sort(sắp xếp nhanh)"
   ]
  },
  {
   "cell_type": "markdown",
   "metadata": {},
   "source": [
    "Ý tưởng: \n",
    "+ Chọn một phần tử làm \"trụ\" (pivot) và phân chia mảng thành hai phần, phần bên trái nhỏ hơn trụ và phần bên phải lớn hơn trụ.\n",
    "\n",
    "Đặc điểm:\n",
    "+ Ưu điểm: Hiệu quả cho các tập dữ liệu lớn, phức tạp thời gian trung bình O(n log n).\n",
    "\n",
    "+ Nhược điểm: Hiệu suất giảm đối với các mảng đã được sắp xếp hoặc có nhiều phần tử trùng nhau."
   ]
  },
  {
   "cell_type": "code",
   "execution_count": 19,
   "metadata": {},
   "outputs": [
    {
     "name": "stdout",
     "output_type": "stream",
     "text": [
      "[1, 2, 3, 4, 6, 7, 9]\n"
     ]
    }
   ],
   "source": [
    "def quick_sort(a):\n",
    "    if len(a) <= 1:\n",
    "        return a\n",
    "    else:\n",
    "        pivot = a[len(a) // 2]\n",
    "        left = [x for x in a if x < pivot]\n",
    "        middle = [x for x in a if x == pivot]\n",
    "        right = [x for x in a if x > pivot]\n",
    "        return quick_sort(left) + middle + quick_sort(right)\n",
    "n=[1,2,3,6,4,9,7]\n",
    "print(quick_sort(n))"
   ]
  },
  {
   "cell_type": "markdown",
   "metadata": {},
   "source": [
    "### 2.6.Heap Sort(sắp xếp bằng Heap)"
   ]
  },
  {
   "cell_type": "markdown",
   "metadata": {},
   "source": [
    "Ý tưởng: \n",
    "+ Xây dựng một heap từ mảng đầu vào và trích xuất phần tử lớn nhất từng bước một.\n",
    "\n",
    "Đặc điểm:\n",
    "+ Ưu điểm: Hiệu quả và ổn định, phức tạp thời gian O(n log n).\n",
    "\n",
    "+ Nhược điểm: Cần hiểu biết về cấu trúc dữ liệu heap."
   ]
  },
  {
   "cell_type": "code",
   "execution_count": 20,
   "metadata": {},
   "outputs": [
    {
     "name": "stdout",
     "output_type": "stream",
     "text": [
      "[1, 2, 3, 4, 6, 7, 9]\n"
     ]
    }
   ],
   "source": [
    "def heapify(a, n, i):\n",
    "    largest = i\n",
    "    l = 2 * i + 1\n",
    "    r = 2 * i + 2\n",
    "    if l < n and a[largest] < a[l]:\n",
    "        largest = l\n",
    "    if r < n and a[largest] < a[r]:\n",
    "        largest = r\n",
    "    if largest != i:\n",
    "        a[i], a[largest] = a[largest], a[i]\n",
    "        heapify(a, n, largest)\n",
    "\n",
    "def heap_sort(a):\n",
    "    n = len(a)\n",
    "    for i in range(n // 2 - 1, -1, -1):\n",
    "        heapify(a, n, i)\n",
    "    for i in range(n-1, 0, -1):\n",
    "        a[i], a[0] = a[0], a[i]\n",
    "        heapify(a, i, 0)\n",
    "    return a\n",
    "n=[1,2,3,6,4,9,7]\n",
    "print(heap_sort(n))"
   ]
  },
  {
   "cell_type": "markdown",
   "metadata": {},
   "source": [
    "### 2.7.Counting Sort(sắp xếp đếm)"
   ]
  },
  {
   "cell_type": "markdown",
   "metadata": {},
   "source": [
    "Ý tưởng:\n",
    "+ Đếm số lần xuất hiện của từng phần tử và sử dụng thông tin này để đặt chúng vào vị trí đúng.\n",
    "\n",
    "Đặc điểm:\n",
    "+ Ưu điểm: Nhanh với các mảng có kích thước nhỏ và có giá trị phần tử nhỏ.\n",
    "\n",
    "+ Nhược điểm: Không hiệu quả với các mảng có dải giá trị rộng."
   ]
  },
  {
   "cell_type": "code",
   "execution_count": 21,
   "metadata": {},
   "outputs": [
    {
     "name": "stdout",
     "output_type": "stream",
     "text": [
      "[1, 2, 3, 4, 6, 7, 9]\n"
     ]
    }
   ],
   "source": [
    "def counting_sort(a):\n",
    "    max_val = max(a)\n",
    "    m = max_val + 1\n",
    "    count = [0] * m\n",
    "\n",
    "    for j in a:\n",
    "        count[j] += 1\n",
    "    i = 0\n",
    "    for j in range(m):\n",
    "        for c in range(count[j]):\n",
    "            a[i] = j\n",
    "            i += 1\n",
    "    return a\n",
    "n=[1,2,3,6,4,9,7]\n",
    "print(counting_sort(n))"
   ]
  },
  {
   "cell_type": "markdown",
   "metadata": {},
   "source": [
    "## 3.Lập bảng so sánh"
   ]
  },
  {
   "cell_type": "markdown",
   "metadata": {},
   "source": [
    "## BẢNG SO SÁNH\n",
    "________________________________________________________________________________________________________________________________________________________________________\n",
    "| Thuật Toán       |               Ý Tưởng                |                   Ưu điểm                    |             Nhược điểm             | Độ Phức Tạp Thời Gian  |\n",
    "|------------------|--------------------------------------|----------------------------------------------|------------------------------------|------------------------|\n",
    "| Bubble Sort      | So sánh và hoán đổi                  | Dễ hiểu, dễ cài đặt                          | Hiệu suất thấp                     | O(n^2)                 |\n",
    "| Selection Sort   | Tìm phần tử nhỏ nhất và hoán đổi     | Dễ cài đặt                                   | Không hiệu quả cho tập dữ liệu lớn | O(n^2)                 |\n",
    "| Insertion Sort   | Chèn phần tử vào vị trí đúng         | Hiệu quả với mảng nhỏ hoặc gần được sắp xếp  | Không hiệu quả cho tập dữ liệu lớn | O(n^2)                 |\n",
    "| Merge Sort       | Chia và kết hợp                      | Hiệu quả cho tập dữ liệu lớn                 | Cần thêm bộ nhớ phụ                | O(n log n)             |\n",
    "| Quick Sort       | Chọn trụ và phân chia                | Hiệu quả, nhanh với dải dữ liệu lớn          | Hiệu suất giảm với mảng đã sắp xếp | O(n log n) trung bình  |\n",
    "| Heap Sort        | Xây dựng heap và trích xuất          | Ổn định, hiệu quả                            | Cần hiểu biết về heap              | O(n log n)             |\n",
    "| Counting Sort    | Đếm và sắp xếp theo số lần xuất hiện | Nhanh với các mảng nhỏ và dải giá trị nhỏ    | Không hiệu quả với dải giá trị lớn | O(n + k)               |\n",
    "|__________________|______________________________________|______________________________________________|____________________________________|________________________|"
   ]
  }
 ],
 "metadata": {
  "kernelspec": {
   "display_name": "Python 3",
   "language": "python",
   "name": "python3"
  },
  "language_info": {
   "codemirror_mode": {
    "name": "ipython",
    "version": 3
   },
   "file_extension": ".py",
   "mimetype": "text/x-python",
   "name": "python",
   "nbconvert_exporter": "python",
   "pygments_lexer": "ipython3",
   "version": "3.12.5"
  }
 },
 "nbformat": 4,
 "nbformat_minor": 2
}
